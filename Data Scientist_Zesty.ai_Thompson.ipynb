{
 "cells": [
  {
   "cell_type": "markdown",
   "id": "687908c7",
   "metadata": {},
   "source": [
    "## Multiple Linear Regression Model for predicting electric consumption (KWH)\n",
    "by Emeka Thompson\n",
    "\n",
    "07/21/22"
   ]
  },
  {
   "cell_type": "markdown",
   "id": "c7be4e75",
   "metadata": {},
   "source": [
    "### Approach (Methodology)\n",
    "1. Understanding the problem:- \n",
    "The data consists of 940 variables/fields and 12083 rows of data. The response variable is **KWH** - electrical consumption.\n",
    "The problem with making a prediction with 939 variables will be the curse of dimensionality and multiple colinearity. One method to approach this problem is to reduce the number of variable by features reduction. The field is numerical and continuous and can be predicted by regression methods.\n",
    "2. Importing relevant libraries:- \n",
    "The libraries imported below are relevant for manipulating, visualizing and choosing the features of the data set provided.\n",
    "3. Loading and preparing and analyzing data:- \n",
    "The downloaded data was loaded as a dataframe (data). A brief summary of data table can be viewed, verifying 940 columns.\n",
    "The data table was also analyzed for missing data and then the categorical variables were removed from the dataset. There are many ways to deal with categorical variables like converting or onehotencoding but for this problem, an _assumption_ is that they have been represented with other variables and can be removed.\n",
    "4. Creating X and y variables:- \n",
    "The variable of interest (target column)is separated from the dataframe as y while the other variable are grouped as features, X.\n",
    "5. Features selection:- \n",
    "There are several methods to select features for regression analysis. Here, bestfeatures using f_regresssion and multiple colinearity was used to select the best 10 features that for predicting KWH. The first step is to find the best 15 features. A new dataframe with the 15 features was created. This dataframe was tested for colinearity. The rationale was to reduce reduntancy from the variables used in training the model. five(5) features with similar correlations were removed and a new dataframe of the best 10 features was created.\n",
    "6. Splitting the data into training and testing sets:- \n",
    "Train and test splits are created to model the data. The train and test splits for the features are scaled using standard scaler.\n",
    "7. Prediction with multiple linear regression:- \n",
    "The linear regression model was imported from scikit learn and used to fit the the train sets and predict the KWH on the test set. Key metrics (MAE, MSE and RMSE) from the regression model were also calculated.\n"
   ]
  },
  {
   "cell_type": "code",
   "execution_count": 1,
   "id": "ef08ac4f",
   "metadata": {},
   "outputs": [],
   "source": [
    "#Importing relevant libraries\n",
    "\n",
    "# pandas and numpy for data manipulation\n",
    "import pandas as pd\n",
    "import numpy as np\n",
    "\n",
    "# matplotlit and seaborn for visualizations\n",
    "import seaborn as sns\n",
    "import matplotlib.pyplot as plt\n",
    "\n",
    "# feature selection tools for feature engineering\n",
    "from sklearn.feature_selection import SelectKBest\n",
    "from sklearn.feature_selection import f_regression\n",
    "\n",
    "# Suppress warnings from pandas\n",
    "import warnings\n",
    "warnings.filterwarnings('ignore')\n",
    "\n",
    "# memory management\n",
    "import gc\n"
   ]
  },
  {
   "cell_type": "code",
   "execution_count": 2,
   "id": "95163e4b",
   "metadata": {},
   "outputs": [
    {
     "data": {
      "text/html": [
       "<div>\n",
       "<style scoped>\n",
       "    .dataframe tbody tr th:only-of-type {\n",
       "        vertical-align: middle;\n",
       "    }\n",
       "\n",
       "    .dataframe tbody tr th {\n",
       "        vertical-align: top;\n",
       "    }\n",
       "\n",
       "    .dataframe thead th {\n",
       "        text-align: right;\n",
       "    }\n",
       "</style>\n",
       "<table border=\"1\" class=\"dataframe\">\n",
       "  <thead>\n",
       "    <tr style=\"text-align: right;\">\n",
       "      <th></th>\n",
       "      <th>DOEID</th>\n",
       "      <th>REGIONC</th>\n",
       "      <th>DIVISION</th>\n",
       "      <th>REPORTABLE_DOMAIN</th>\n",
       "      <th>TYPEHUQ</th>\n",
       "      <th>NWEIGHT</th>\n",
       "      <th>HDD65</th>\n",
       "      <th>CDD65</th>\n",
       "      <th>HDD30YR</th>\n",
       "      <th>CDD30YR</th>\n",
       "      <th>...</th>\n",
       "      <th>SCALEKER</th>\n",
       "      <th>IECC_Climate_Pub</th>\n",
       "      <th>HDD50</th>\n",
       "      <th>CDD80</th>\n",
       "      <th>GND_HDD65</th>\n",
       "      <th>WSF</th>\n",
       "      <th>OA_LAT</th>\n",
       "      <th>GWT</th>\n",
       "      <th>DesignDBT99</th>\n",
       "      <th>DesignDBT1</th>\n",
       "    </tr>\n",
       "  </thead>\n",
       "  <tbody>\n",
       "    <tr>\n",
       "      <th>0</th>\n",
       "      <td>1</td>\n",
       "      <td>2</td>\n",
       "      <td>4</td>\n",
       "      <td>12</td>\n",
       "      <td>2</td>\n",
       "      <td>2471.68</td>\n",
       "      <td>4742</td>\n",
       "      <td>1080</td>\n",
       "      <td>4953</td>\n",
       "      <td>1271</td>\n",
       "      <td>...</td>\n",
       "      <td>-2</td>\n",
       "      <td>4A</td>\n",
       "      <td>2117</td>\n",
       "      <td>56</td>\n",
       "      <td>4250</td>\n",
       "      <td>0.48</td>\n",
       "      <td>6</td>\n",
       "      <td>56</td>\n",
       "      <td>9</td>\n",
       "      <td>96</td>\n",
       "    </tr>\n",
       "    <tr>\n",
       "      <th>1</th>\n",
       "      <td>2</td>\n",
       "      <td>4</td>\n",
       "      <td>10</td>\n",
       "      <td>26</td>\n",
       "      <td>2</td>\n",
       "      <td>8599.17</td>\n",
       "      <td>2662</td>\n",
       "      <td>199</td>\n",
       "      <td>2688</td>\n",
       "      <td>143</td>\n",
       "      <td>...</td>\n",
       "      <td>-2</td>\n",
       "      <td>3C</td>\n",
       "      <td>62</td>\n",
       "      <td>26</td>\n",
       "      <td>2393</td>\n",
       "      <td>0.61</td>\n",
       "      <td>0</td>\n",
       "      <td>64</td>\n",
       "      <td>38</td>\n",
       "      <td>73</td>\n",
       "    </tr>\n",
       "    <tr>\n",
       "      <th>2</th>\n",
       "      <td>3</td>\n",
       "      <td>1</td>\n",
       "      <td>1</td>\n",
       "      <td>1</td>\n",
       "      <td>5</td>\n",
       "      <td>8969.92</td>\n",
       "      <td>6233</td>\n",
       "      <td>505</td>\n",
       "      <td>5741</td>\n",
       "      <td>829</td>\n",
       "      <td>...</td>\n",
       "      <td>-2</td>\n",
       "      <td>5A</td>\n",
       "      <td>2346</td>\n",
       "      <td>49</td>\n",
       "      <td>5654</td>\n",
       "      <td>0.48</td>\n",
       "      <td>3</td>\n",
       "      <td>52</td>\n",
       "      <td>12</td>\n",
       "      <td>88</td>\n",
       "    </tr>\n",
       "    <tr>\n",
       "      <th>3</th>\n",
       "      <td>4</td>\n",
       "      <td>2</td>\n",
       "      <td>3</td>\n",
       "      <td>7</td>\n",
       "      <td>2</td>\n",
       "      <td>18003.64</td>\n",
       "      <td>6034</td>\n",
       "      <td>672</td>\n",
       "      <td>5781</td>\n",
       "      <td>868</td>\n",
       "      <td>...</td>\n",
       "      <td>-2</td>\n",
       "      <td>5A</td>\n",
       "      <td>2746</td>\n",
       "      <td>0</td>\n",
       "      <td>4941</td>\n",
       "      <td>0.55</td>\n",
       "      <td>4</td>\n",
       "      <td>55</td>\n",
       "      <td>7</td>\n",
       "      <td>87</td>\n",
       "    </tr>\n",
       "    <tr>\n",
       "      <th>4</th>\n",
       "      <td>5</td>\n",
       "      <td>1</td>\n",
       "      <td>1</td>\n",
       "      <td>1</td>\n",
       "      <td>3</td>\n",
       "      <td>5999.61</td>\n",
       "      <td>5388</td>\n",
       "      <td>702</td>\n",
       "      <td>5313</td>\n",
       "      <td>797</td>\n",
       "      <td>...</td>\n",
       "      <td>-2</td>\n",
       "      <td>5A</td>\n",
       "      <td>2251</td>\n",
       "      <td>0</td>\n",
       "      <td>5426</td>\n",
       "      <td>0.61</td>\n",
       "      <td>4</td>\n",
       "      <td>50</td>\n",
       "      <td>13</td>\n",
       "      <td>90</td>\n",
       "    </tr>\n",
       "  </tbody>\n",
       "</table>\n",
       "<p>5 rows × 940 columns</p>\n",
       "</div>"
      ],
      "text/plain": [
       "   DOEID  REGIONC  DIVISION  REPORTABLE_DOMAIN  TYPEHUQ   NWEIGHT  HDD65  \\\n",
       "0      1        2         4                 12        2   2471.68   4742   \n",
       "1      2        4        10                 26        2   8599.17   2662   \n",
       "2      3        1         1                  1        5   8969.92   6233   \n",
       "3      4        2         3                  7        2  18003.64   6034   \n",
       "4      5        1         1                  1        3   5999.61   5388   \n",
       "\n",
       "   CDD65  HDD30YR  CDD30YR  ...  SCALEKER  IECC_Climate_Pub HDD50 CDD80  \\\n",
       "0   1080     4953     1271  ...        -2                4A  2117    56   \n",
       "1    199     2688      143  ...        -2                3C    62    26   \n",
       "2    505     5741      829  ...        -2                5A  2346    49   \n",
       "3    672     5781      868  ...        -2                5A  2746     0   \n",
       "4    702     5313      797  ...        -2                5A  2251     0   \n",
       "\n",
       "   GND_HDD65   WSF  OA_LAT  GWT  DesignDBT99  DesignDBT1  \n",
       "0       4250  0.48       6   56            9          96  \n",
       "1       2393  0.61       0   64           38          73  \n",
       "2       5654  0.48       3   52           12          88  \n",
       "3       4941  0.55       4   55            7          87  \n",
       "4       5426  0.61       4   50           13          90  \n",
       "\n",
       "[5 rows x 940 columns]"
      ]
     },
     "execution_count": 2,
     "metadata": {},
     "output_type": "execute_result"
    }
   ],
   "source": [
    "# loading data\n",
    "data = pd.read_csv('./recs2009_public.csv')\n",
    "data.head()"
   ]
  },
  {
   "cell_type": "code",
   "execution_count": 3,
   "id": "85a45ff5",
   "metadata": {},
   "outputs": [
    {
     "data": {
      "text/plain": [
       "0"
      ]
     },
     "execution_count": 3,
     "metadata": {},
     "output_type": "execute_result"
    }
   ],
   "source": [
    "#Searching for missing values\n",
    "data.isna().sum().sum()"
   ]
  },
  {
   "cell_type": "code",
   "execution_count": 4,
   "id": "b37d1ada",
   "metadata": {},
   "outputs": [],
   "source": [
    "# Dropping all non numeric columns in the dataframe.\n",
    "data = data.drop(data.select_dtypes(include=[object]),axis=1)"
   ]
  },
  {
   "cell_type": "code",
   "execution_count": 5,
   "id": "95633edc",
   "metadata": {},
   "outputs": [],
   "source": [
    "#Creating X and y variables\n",
    "X = data.drop('KWH', axis =1)  #independent columns\n",
    "y = data['KWH'] #target column i.e KWH\n"
   ]
  },
  {
   "cell_type": "code",
   "execution_count": 6,
   "id": "5e8efe4e",
   "metadata": {},
   "outputs": [
    {
     "name": "stdout",
     "output_type": "stream",
     "text": [
      "        Features         Score\n",
      "840        BTUEL  9.205575e+13\n",
      "845     BTUELOTH  4.163837e+04\n",
      "839       KWHOTH  4.163834e+04\n",
      "846     DOLLAREL  3.716097e+04\n",
      "851     DOLELOTH  1.175479e+04\n",
      "907  TOTALBTUOTH  1.017260e+04\n",
      "913  TOTALDOLOTH  9.113650e+03\n",
      "842     BTUELCOL  9.082572e+03\n",
      "836       KWHCOL  9.082571e+03\n",
      "904  TOTALBTUCOL  9.082570e+03\n",
      "906  TOTALBTURFG  8.320485e+03\n",
      "838       KWHRFG  8.320471e+03\n",
      "844     BTUELRFG  8.320468e+03\n",
      "908     TOTALDOL  7.864070e+03\n",
      "910  TOTALDOLCOL  6.853435e+03\n"
     ]
    }
   ],
   "source": [
    "# Applying SelectKBest class to extract top 15 best features\n",
    "bestfeatures = SelectKBest(score_func=f_regression, k=15)\n",
    "fit = bestfeatures.fit(X, y)\n",
    "dfscores = pd.DataFrame(fit.scores_)\n",
    "dfcolumns = pd.DataFrame(X.columns)\n",
    "\n",
    "#concating two dataframes for better visualization \n",
    "featureScores = pd.concat([dfcolumns,dfscores],axis=1)\n",
    "featureScores.columns = ['Features','Score']  #naming the dataframe columns\n",
    "print(featureScores.nlargest(15,'Score'))  #print 10 best feature"
   ]
  },
  {
   "cell_type": "code",
   "execution_count": 7,
   "id": "b1d512a9",
   "metadata": {},
   "outputs": [
    {
     "data": {
      "text/plain": [
       "(12083, 15)"
      ]
     },
     "execution_count": 7,
     "metadata": {},
     "output_type": "execute_result"
    }
   ],
   "source": [
    "#Creating dataframes from selected features\n",
    "x_new = X[['BTUEL', 'BTUELOTH', 'KWHOTH', 'DOLLAREL', 'DOLELOTH', 'TOTALBTUOTH', 'TOTALDOLOTH', 'BTUELCOL', 'TOTALBTUCOL', 'KWHCOL', 'TOTALBTURFG', 'BTUELRFG', 'KWHRFG', 'TOTALDOL', 'TOTALDOLCOL']]\n",
    "x_new.shape"
   ]
  },
  {
   "cell_type": "code",
   "execution_count": 8,
   "id": "83ad043c",
   "metadata": {},
   "outputs": [
    {
     "data": {
      "text/plain": [
       "<AxesSubplot:>"
      ]
     },
     "execution_count": 8,
     "metadata": {},
     "output_type": "execute_result"
    },
    {
     "data": {
      "image/png": "[encoded data removed]",
      "text/plain": [
       "<Figure size 720x432 with 2 Axes>"
      ]
     },
     "metadata": {
      "needs_background": "light"
     },
     "output_type": "display_data"
    }
   ],
   "source": [
    "# Correlation matrix\n",
    "cor = x_new.corr()\n",
    "\n",
    "# Plotting heatmap\n",
    "plt.figure(figsize = (10,6))\n",
    "sns.heatmap(cor, annot = True)"
   ]
  },
  {
   "cell_type": "code",
   "execution_count": 9,
   "id": "bb9dc21b",
   "metadata": {},
   "outputs": [
    {
     "data": {
      "text/plain": [
       "(12083, 10)"
      ]
     },
     "execution_count": 9,
     "metadata": {},
     "output_type": "execute_result"
    }
   ],
   "source": [
    "# Creating dataframes from selected features\n",
    "# Variables with multiple colinearity, like BTUELOTH, BTEEEULRFG,TOTALBTURFG, TOTALBTUCOL, BTEULCOL were droped from the dataframe to leave 10 features\n",
    "x_new = x_new[['BTUEL', 'KWHOTH', 'DOLLAREL', 'DOLELOTH', 'TOTALBTUOTH', 'TOTALDOLOTH', 'KWHCOL', 'KWHRFG', 'TOTALDOL', 'TOTALDOLCOL']]\n",
    "x_new.shape"
   ]
  },
  {
   "cell_type": "code",
   "execution_count": 10,
   "id": "4e9dd10b",
   "metadata": {},
   "outputs": [],
   "source": [
    "# Creating Train and Test Dataset\n",
    "from sklearn.model_selection import train_test_split\n",
    "x_train,x_test,y_train,y_test = train_test_split(x_new,y,test_size = 0.3,random_state = 42)"
   ]
  },
  {
   "cell_type": "code",
   "execution_count": 11,
   "id": "2d33c2ac",
   "metadata": {},
   "outputs": [],
   "source": [
    "#Scaling the Data\n",
    "from sklearn.preprocessing import StandardScaler\n",
    "sc = StandardScaler()\n",
    "x_train2 = sc.fit_transform(x_train)\n",
    "x_test2 = sc.transform(x_test)\n",
    "#x2 = pd.DataFrame(x_train2)"
   ]
  },
  {
   "cell_type": "code",
   "execution_count": 14,
   "id": "788f3157",
   "metadata": {
    "scrolled": false
   },
   "outputs": [
    {
     "name": "stdout",
     "output_type": "stream",
     "text": [
      "\u001b[1m***PREDICTION REPORT***\u001b[0m\n",
      "\n",
      "Method: Linear Regression\n",
      "\n",
      "Intercept: 11404.82\n",
      "\n",
      "\n",
      "             Coefficients\n",
      "BTUEL         7836.494501\n",
      "KWHOTH           0.005006\n",
      "DOLLAREL        -0.006559\n",
      "DOLELOTH        -0.001366\n",
      "TOTALBTUOTH     -0.002735\n",
      "TOTALDOLOTH      0.007151\n",
      "KWHCOL          -0.003013\n",
      "KWHRFG          -0.000006\n",
      "TOTALDOL        -0.003870\n",
      "TOTALDOLCOL      0.006233\n",
      "\n",
      "R2: 1.00\n",
      "Adj_R2: 1.00\n",
      "\n",
      "Mean Absolute Error: 0.08\n",
      "Mean Squared Error: 0.01\n",
      "Root Mean Squared Error: 0.09\n"
     ]
    }
   ],
   "source": [
    "#Script for Linear Regression\n",
    "from sklearn.linear_model import LinearRegression\n",
    "from sklearn import metrics  \n",
    "\n",
    "for name,method in [('Linear Regression', LinearRegression(n_jobs=-1))]: \n",
    "    method.fit(x_train2,y_train)\n",
    "    predict = method.predict(x_test2)\n",
    "\n",
    "print('\\033[1m' + '***PREDICTION REPORT***' + '\\033[0m' '\\n')\n",
    "print('Method: {}'.format(name))  \n",
    "\n",
    "#Coefficents\n",
    "print('\\nIntercept: {:0.2f}'.format(float(method.intercept_)))\n",
    "coeff_table=pd.DataFrame(np.transpose(method.coef_),x_new.columns,columns=['Coefficients'])\n",
    "print('\\n')\n",
    "print(coeff_table)\n",
    "    \n",
    "#MAE,MSE and RMSE\n",
    "print('\\nR2: {:0.2f}'.format(metrics.r2_score(y_test, predict)))\n",
    "adjusted_r_squared2 = 1-(1-metrics.r2_score(y_test,predict))*(len(y)-1)/(len(y)-x_new.shape[1]-1)\n",
    "print('Adj_R2: {:0.2f}'.format(adjusted_r_squared2))\n",
    "\n",
    "print('\\nMean Absolute Error: {:0.2f}'.format(metrics.mean_absolute_error(y_test, predict)))  \n",
    "print('Mean Squared Error: {:0.2f}'.format(metrics.mean_squared_error(y_test, predict)))  \n",
    "print('Root Mean Squared Error: {:0.2f}'.format(np.sqrt(metrics.mean_squared_error(y_test, predict))))"
   ]
  },
  {
   "cell_type": "code",
   "execution_count": 17,
   "id": "643fb76d",
   "metadata": {},
   "outputs": [
    {
     "name": "stdout",
     "output_type": "stream",
     "text": [
      "\n",
      "Forecast Table\n"
     ]
    },
    {
     "data": {
      "text/html": [
       "<div>\n",
       "<style scoped>\n",
       "    .dataframe tbody tr th:only-of-type {\n",
       "        vertical-align: middle;\n",
       "    }\n",
       "\n",
       "    .dataframe tbody tr th {\n",
       "        vertical-align: top;\n",
       "    }\n",
       "\n",
       "    .dataframe thead th {\n",
       "        text-align: right;\n",
       "    }\n",
       "</style>\n",
       "<table border=\"1\" class=\"dataframe\">\n",
       "  <thead>\n",
       "    <tr style=\"text-align: right;\">\n",
       "      <th></th>\n",
       "      <th>Actual</th>\n",
       "      <th>Predicted</th>\n",
       "      <th>Difference</th>\n",
       "    </tr>\n",
       "  </thead>\n",
       "  <tbody>\n",
       "    <tr>\n",
       "      <th>5155</th>\n",
       "      <td>11486</td>\n",
       "      <td>11485.9</td>\n",
       "      <td>-0.1</td>\n",
       "    </tr>\n",
       "    <tr>\n",
       "      <th>7034</th>\n",
       "      <td>10604</td>\n",
       "      <td>10603.8</td>\n",
       "      <td>-0.2</td>\n",
       "    </tr>\n",
       "    <tr>\n",
       "      <th>1786</th>\n",
       "      <td>14658</td>\n",
       "      <td>14658.0</td>\n",
       "      <td>-0.0</td>\n",
       "    </tr>\n",
       "    <tr>\n",
       "      <th>1491</th>\n",
       "      <td>9555</td>\n",
       "      <td>9555.1</td>\n",
       "      <td>0.1</td>\n",
       "    </tr>\n",
       "    <tr>\n",
       "      <th>2128</th>\n",
       "      <td>15845</td>\n",
       "      <td>15845.0</td>\n",
       "      <td>-0.0</td>\n",
       "    </tr>\n",
       "  </tbody>\n",
       "</table>\n",
       "</div>"
      ],
      "text/plain": [
       "      Actual  Predicted  Difference\n",
       "5155   11486    11485.9        -0.1\n",
       "7034   10604    10603.8        -0.2\n",
       "1786   14658    14658.0        -0.0\n",
       "1491    9555     9555.1         0.1\n",
       "2128   15845    15845.0        -0.0"
      ]
     },
     "execution_count": 17,
     "metadata": {},
     "output_type": "execute_result"
    }
   ],
   "source": [
    "# Forecast Table\n",
    "# The forcast table allows us to compare the actual KWH values with the predicted KWH values.\n",
    "\n",
    "predict2 = predict.T\n",
    "diff = predict2-y_test\n",
    "FcstTble=pd.DataFrame({'Actual':y_test,'Predicted':predict2.round(1),'Difference':diff.round(1)})\n",
    "print('\\nForecast Table')\n",
    "FcstTble.head()"
   ]
  },
  {
   "cell_type": "code",
   "execution_count": null,
   "id": "4cc1ba87",
   "metadata": {},
   "outputs": [],
   "source": []
  }
 ],
 "metadata": {
  "kernelspec": {
   "display_name": "Python 3",
   "language": "python",
   "name": "python3"
  },
  "language_info": {
   "codemirror_mode": {
    "name": "ipython",
    "version": 3
   },
   "file_extension": ".py",
   "mimetype": "text/x-python",
   "name": "python",
   "nbconvert_exporter": "python",
   "pygments_lexer": "ipython3",
   "version": "3.8.5"
  }
 },
 "nbformat": 4,
 "nbformat_minor": 5
}
